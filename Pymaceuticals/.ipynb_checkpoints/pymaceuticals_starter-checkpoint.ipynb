{
 "cells": [
  {
   "cell_type": "markdown",
   "metadata": {},
   "source": [
    "## Observations and Insights "
   ]
  },
  {
   "cell_type": "markdown",
   "metadata": {},
   "source": []
  },
  {
   "cell_type": "code",
   "execution_count": null,
   "metadata": {},
   "outputs": [],
   "source": [
    "# Dependencies and Setup\n",
    "import matplotlib.pyplot as plt\n",
    "import pandas as pd\n",
    "import scipy.stats as st\n",
    "import numpy as np\n",
    "from scipy.stats import linregress\n",
    "\n",
    "# Study data files\n",
    "mouse_metadata_path = \"data/Mouse_metadata.csv\"\n",
    "study_results_path = \"data/Study_results.csv\"\n",
    "\n",
    "# Read the mouse data and the study results\n",
    "mouse_metadata = pd.read_csv(mouse_metadata_path)\n",
    "study_results = pd.read_csv(study_results_path)\n",
    "\n",
    "# Combine the data into a single dataset\n",
    "fuse_df = pd.merge(mouse_metadata, study_results, on='Mouse ID', how='inner')\n",
    "\n",
    "# Display the data table for preview\n",
    "fuse_df.head()"
   ]
  },
  {
   "cell_type": "code",
   "execution_count": null,
   "metadata": {},
   "outputs": [],
   "source": [
    "# Checking the number of mice.\n",
    "fuse_df[\"Mouse ID\"].nunique()"
   ]
  },
  {
   "cell_type": "code",
   "execution_count": null,
   "metadata": {},
   "outputs": [],
   "source": [
    "# Getting the duplicate mice by ID number that shows up for Mouse ID and Timepoint. \n",
    "duped_df=fuse_df[fuse_df.duplicated(subset=['Mouse ID',\"Timepoint\"],keep= False)]\n",
    "print(duped_df)"
   ]
  },
  {
   "cell_type": "code",
   "execution_count": null,
   "metadata": {},
   "outputs": [],
   "source": [
    "# Optional: Get all the data for the duplicate mouse ID. \n",
    "\n",
    "fuse_df[fuse_df[\"Mouse ID\"] == 'g989']"
   ]
  },
  {
   "cell_type": "code",
   "execution_count": null,
   "metadata": {},
   "outputs": [],
   "source": [
    "# Create a clean DataFrame by dropping the duplicate mouse by its ID.\n",
    "dropped_df=fuse_df.drop_duplicates(subset=['Mouse ID',\"Timepoint\"],keep= 'first')\n",
    "dropped_df.head()"
   ]
  },
  {
   "cell_type": "code",
   "execution_count": null,
   "metadata": {},
   "outputs": [],
   "source": [
    "# Checking the number of mice in the clean DataFrame.\n",
    "dropped_df[\"Mouse ID\"].nunique()"
   ]
  },
  {
   "cell_type": "markdown",
   "metadata": {},
   "source": [
    "## Summary Statistics"
   ]
  },
  {
   "cell_type": "code",
   "execution_count": null,
   "metadata": {},
   "outputs": [],
   "source": [
    "# Generate a summary statistics table of mean, median, variance, standard deviation, and SEM of the tumor volume for each regimen\n",
    "\n",
    "# Use groupby and summary statistical methods to calculate the following properties of each drug regimen: \n",
    "# mean, median, variance, standard deviation, and SEM of the tumor volume. \n",
    "# Assemble the resulting series into a single summary dataframe.\n",
    "\n",
    "grouped_df=dropped_df.groupby(\"Drug Regimen\")\n",
    "tum_mean=grouped_df[\"Tumor Volume (mm3)\"].mean()\n",
    "tum_med=grouped_df[\"Tumor Volume (mm3)\"].median()\n",
    "tum_var=grouped_df[\"Tumor Volume (mm3)\"].var()\n",
    "tum_dev=grouped_df[\"Tumor Volume (mm3)\"].std()\n",
    "tum_err=grouped_df[\"Tumor Volume (mm3)\"].sem()\n",
    "tumor_stats_df=pd.DataFrame({\"Mean Tumor Volume\": tum_mean,\n",
    "                            \"Median Tumor Volume\":tum_med,\n",
    "                            \"Tumor Volume Variance\":tum_var,\n",
    "                           \"Tumor Volume Std. Dev.\": tum_dev,\n",
    "                            \"Tumor Volume Std. Err.\":tum_err}) \n",
    "tumor_stats_df.head(10)"
   ]
  },
  {
   "cell_type": "code",
   "execution_count": null,
   "metadata": {},
   "outputs": [],
   "source": [
    "# Generate a summary statistics table of mean, median, variance, standard deviation, and SEM of the tumor volume for each regimen\n",
    "\n",
    "dropped_df.groupby(\"Drug Regimen\")[\"Tumor Volume (mm3)\"].mean()\n",
    "dropped_df.groupby(\"Drug Regimen\")[\"Tumor Volume (mm3)\"].median()\n",
    "dropped_df.groupby(\"Drug Regimen\")[\"Tumor Volume (mm3)\"].var()\n",
    "dropped_df.groupby(\"Drug Regimen\")[\"Tumor Volume (mm3)\"].std()\n",
    "dropped_df.groupby(\"Drug Regimen\")[\"Tumor Volume (mm3)\"].sem()\n",
    "\n",
    "\n",
    "\n",
    "\n",
    "# Using the aggregation method, produce the same summary statistics in a single line\n",
    "dropped_df.groupby(\"Drug Regimen\").agg({\"Tumor Volume (mm3)\": [\"mean\", \"median\", \"var\",\"std\",\"sem\"]})"
   ]
  },
  {
   "cell_type": "markdown",
   "metadata": {},
   "source": [
    "## Bar and Pie Charts"
   ]
  },
  {
   "cell_type": "code",
   "execution_count": null,
   "metadata": {},
   "outputs": [],
   "source": [
    "# Generate a bar plot showing the total number of timepoints for all mice tested for each drug regimen using Pandas.\n",
    "chart_df=fuse_df.groupby(\"Drug Regimen\")\n",
    "bar_chart=chart_df[\"Drug Regimen\"].count().plot(kind='bar')\n",
    "bar_chart.set_ylabel(\"Number Of Mice Tested\")\n",
    "plt.show()"
   ]
  },
  {
   "cell_type": "code",
   "execution_count": null,
   "metadata": {},
   "outputs": [],
   "source": [
    "# Generate a bar plot showing the total number of timepoints for all mice tested for each drug regimen using pyplot.\n",
    "chart_df[\"Timepoint\"].size().plot(kind='bar')"
   ]
  },
  {
   "cell_type": "code",
   "execution_count": null,
   "metadata": {},
   "outputs": [],
   "source": [
    "# Generate a pie plot showing the distribution of female versus male mice using Pandas\n",
    "print(fuse_df[\"Mouse ID\"].count())\n",
    "print(fuse_df[fuse_df[\"Sex\"] == \"Male\"].count())\n",
    "print(fuse_df[fuse_df[\"Sex\"] == \"Female\"].count())\n",
    "sex=pd.DataFrame({'Sex': [958,935]},\n",
    "                  index=['Male',\"Female\"])\n",
    "sex.plot.pie(subplots=True)\n"
   ]
  },
  {
   "cell_type": "code",
   "execution_count": null,
   "metadata": {},
   "outputs": [],
   "source": [
    "# Generate a pie plot showing the distribution of female versus male mice using pyplot\n",
    "label= \"Male\",\"Female\"\n",
    "sex = [958,935]\n",
    "plt.pie(sex,labels=label, autopct=\"%1.1f%%\")"
   ]
  },
  {
   "cell_type": "markdown",
   "metadata": {},
   "source": [
    "## Quartiles, Outliers and Boxplots"
   ]
  },
  {
   "cell_type": "code",
   "execution_count": null,
   "metadata": {},
   "outputs": [],
   "source": [
    "# Calculate the final tumor volume of each mouse across four of the treatment regimens:  \n",
    "# Capomulin, Ramicane, Infubinol, and Ceftamin\n",
    "drug_vol=dropped_df.groupby('Drug Regimen')['Tumor Volume (mm3)'].max()\n",
    "print(drug_vol)\n",
    "\n",
    "# Start by getting the last (greatest) timepoint for each mouse\n",
    "print(dropped_df.groupby(\"Mouse ID\")['Timepoint'].max())\n",
    "\n",
    "# Merge this group df with the original dataframe to get the tumor volume at the last timepoint\n",
    "time_id=dropped_df.groupby(\"Mouse ID\")['Timepoint'].max()\n",
    "time_merge=pd.merge(fuse_df, time_id, on='Mouse ID', how='left')\n",
    "time_merge.head()"
   ]
  },
  {
   "cell_type": "code",
   "execution_count": null,
   "metadata": {},
   "outputs": [],
   "source": [
    "# Put treatments into a list for for loop (and later for plot labels)\n",
    "drugs=time_merge.groupby(\"Drug Regimen\")\n",
    "tumor_vol=[drugs.get_group(\"Capomulin\")['Tumor Volume (mm3)'],drugs.get_group(\"Ramicane\")['Tumor Volume (mm3)'],drugs.get_group(\"Infubinol\")['Tumor Volume (mm3)'],drugs.get_group(\"Ceftamin\")['Tumor Volume (mm3)']]\n",
    "# Create empty list to fill with tumor vol data (for plotting)\n",
    "tum_vol=pd.DataFrame(tumor_vol)\n",
    "names=[\"Capomulin\",\"Ramicane\",\"Infubinol\",\"Ceftamin\"]\n",
    "\n",
    "# Calculate the IQR and quantitatively determine if there are any potential outliers. \n",
    "    # Locate the rows which contain mice on each drug and get the tumor volumes\n",
    "\n",
    "\n",
    "    \n",
    "    # add subset \n",
    "    \n",
    "    \n",
    "    # Determine outliers using upper and lower bounds\n",
    "fig1, ax1 = plt.subplots()\n",
    "ax1.set_ylabel('Final Tumor Volume (mm3)')\n",
    "ax1.boxplot(tumor_vol)\n",
    "plt.xticks([1, 2, 3, 4], names)\n",
    "plt.show()"
   ]
  },
  {
   "cell_type": "code",
   "execution_count": null,
   "metadata": {},
   "outputs": [],
   "source": [
    "# Generate a box plot of the final tumor volume of each mouse across four regimens of interest"
   ]
  },
  {
   "cell_type": "markdown",
   "metadata": {},
   "source": [
    "## Line and Scatter Plots"
   ]
  },
  {
   "cell_type": "code",
   "execution_count": null,
   "metadata": {},
   "outputs": [],
   "source": [
    "# Generate a line plot of tumor volume vs. time point for a mouse treated with Capomulin\n",
    "ram_tum_vol= time_merge.iloc[0:10]['Tumor Volume (mm3)']\n",
    "ram_time=time_merge.iloc[0:10]['Timepoint_x']\n",
    "plt.plot(ram_time,ram_tum_vol)\n",
    "plt.xlabel(\"Timepoint (Days)\")\n",
    "plt.ylabel(\"Tumor Volume (mm3)\")\n",
    "plt.show()"
   ]
  },
  {
   "cell_type": "code",
   "execution_count": null,
   "metadata": {},
   "outputs": [],
   "source": [
    "# Generate a scatter plot of average tumor volume vs. mouse weight for the Capomulin regimen\n",
    "cap_tum_vol=drugs.get_group(\"Capomulin\")['Tumor Volume (mm3)']\n",
    "cap_weight=drugs.get_group(\"Capomulin\")['Weight (g)']\n",
    "plt.scatter(cap_weight,cap_tum_vol)\n",
    "plt.xlabel('Weight (g)')\n",
    "plt.ylabel(\"Tumor Volume (mm3)\")\n",
    "plt.show()"
   ]
  },
  {
   "cell_type": "markdown",
   "metadata": {},
   "source": [
    "## Correlation and Regression"
   ]
  },
  {
   "cell_type": "code",
   "execution_count": null,
   "metadata": {},
   "outputs": [],
   "source": [
    "# Calculate the correlation coefficient and linear regression model \n",
    "# for mouse weight and average tumor volume for the Capomulin regimen\n",
    "x_values=cap_weight\n",
    "y_values=cap_tum_vol\n",
    "(slope, intercept, rvalue, pvalue, stderr) = linregress(x_values, y_values)\n",
    "regress_values = x_values * slope + intercept\n",
    "line_eq = \"y = \" + str(round(slope,2)) + \"x + \" + str(round(intercept,2))\n",
    "plt.scatter(x_values,y_values)\n",
    "plt.plot(x_values,regress_values,\"r-\")\n",
    "plt.xlabel('Weight (g)')\n",
    "plt.ylabel(\"Tumor Volume (mm3)\")\n",
    "print(f\"The correlation between mouse weight and the average tumor volume is {rvalue**2}\")\n",
    "plt.show()"
   ]
  },
  {
   "cell_type": "code",
   "execution_count": null,
   "metadata": {},
   "outputs": [],
   "source": [
    "# print(drugs.get_group(\"Capomulin\").head(50))\n",
    "# mid=time_merge.groupby(\"Mouse ID\")\n",
    "# s185=mid.get_group(\"s185\")\n",
    "# x401=mid.get_group(\"x401\")\n",
    "# m601=mid.get_group(\"m601\")\n",
    "# f966=mid.get_group(\"f966\")\n",
    "# u364=mid.get_group(\"u364\")\n",
    "# y793=mid.get_group(\"y793\")\n",
    "# s185w=s185['Weight (g)'].mean()\n",
    "# s185['Tumor Volume (mm3)'].mean()\n",
    "# x401['Weight (g)'].mean()\n",
    "# x401['Tumor Volume (mm3)'].mean()\n",
    "# m601['Weight (g)'].mean()\n",
    "# m601['Tumor Volume (mm3)'].mean()\n",
    "# f966['Weight (g)'].mean()\n",
    "# f966['Tumor Volume (mm3)'].mean()\n",
    "# u364['Weight (g)'].mean()\n",
    "# u364['Tumor Volume (mm3)'].mean()\n",
    "# y793['Weight (g)'].mean()\n",
    "# y793['Tumor Volume (mm3)'].mean()"
   ]
  }
 ],
 "metadata": {
  "anaconda-cloud": {},
  "kernelspec": {
   "display_name": "Python [conda env:PythonData38] *",
   "language": "python",
   "name": "conda-env-PythonData38-py"
  },
  "language_info": {
   "codemirror_mode": {
    "name": "ipython",
    "version": 3
   },
   "file_extension": ".py",
   "mimetype": "text/x-python",
   "name": "python",
   "nbconvert_exporter": "python",
   "pygments_lexer": "ipython3",
   "version": "3.8.12"
  }
 },
 "nbformat": 4,
 "nbformat_minor": 4
}
